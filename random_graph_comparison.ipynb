{
 "cells": [
  {
   "cell_type": "code",
   "execution_count": 1,
   "metadata": {},
   "outputs": [],
   "source": [
    "import pandas as pd\n",
    "import networkx as nx\n",
    "import nxviz as nv \n",
    "\n",
    "import numpy as np\n",
    "import matplotlib.pyplot as plt\n",
    "import matplotlib.cm as cm"
   ]
  },
  {
   "cell_type": "code",
   "execution_count": 2,
   "metadata": {},
   "outputs": [],
   "source": [
    "#load the nx graph object, stored in a pickle file\n",
    "G = nx.read_gpickle(\"who_follows_who_new2.pickle\")"
   ]
  },
  {
   "cell_type": "code",
   "execution_count": 3,
   "metadata": {
    "scrolled": true
   },
   "outputs": [
    {
     "name": "stdout",
     "output_type": "stream",
     "text": [
      "Name: \n",
      "Type: DiGraph\n",
      "Number of nodes: 78\n",
      "Number of edges: 1223\n",
      "Average in degree:  15.6795\n",
      "Average out degree:  15.6795\n"
     ]
    }
   ],
   "source": [
    "#inspect graph object\n",
    "print(nx.info(G))"
   ]
  },
  {
   "cell_type": "code",
   "execution_count": 40,
   "metadata": {},
   "outputs": [
    {
     "name": "stdout",
     "output_type": "stream",
     "text": [
      "Name: \n",
      "Type: DiGraph\n",
      "Number of nodes: 78\n",
      "Number of edges: 1226\n",
      "Average in degree:  15.7179\n",
      "Average out degree:  15.7179\n"
     ]
    }
   ],
   "source": [
    "#create Erdos–Renyi random graph model with 78 nodes and 1223 edges (properties of real world twitter network)\n",
    "G_renyi = nx.generators.random_graphs.erdos_renyi_graph(78,p=(1223/(78*77)), directed=True)\n",
    "print(nx.info(G_renyi))"
   ]
  },
  {
   "cell_type": "code",
   "execution_count": 8,
   "metadata": {},
   "outputs": [],
   "source": [
    "#G_random=nx.gnm_random_graph(78,1223,directed=True)\n",
    "#print(nx.info(G_random))"
   ]
  },
  {
   "cell_type": "code",
   "execution_count": 41,
   "metadata": {},
   "outputs": [
    {
     "data": {
      "text/plain": [
       "[]"
      ]
     },
     "execution_count": 41,
     "metadata": {},
     "output_type": "execute_result"
    }
   ],
   "source": [
    "#check if there are any isolated nodes in random graph\n",
    "isolated_nodes = list(nx.isolates(G_renyi))\n",
    "isolated_nodes"
   ]
  },
  {
   "cell_type": "code",
   "execution_count": 48,
   "metadata": {},
   "outputs": [
    {
     "name": "stdout",
     "output_type": "stream",
     "text": [
      "Name: Zachary's Karate Club\n",
      "Type: Graph\n",
      "Number of nodes: 34\n",
      "Number of edges: 78\n",
      "Average degree:   4.5882\n"
     ]
    }
   ],
   "source": [
    "#Karate club graph as a real world socialnetwork reference model\n",
    "G_social=nx.generators.social.karate_club_graph()\n",
    "print(nx.info(G_social))"
   ]
  },
  {
   "cell_type": "code",
   "execution_count": 67,
   "metadata": {},
   "outputs": [],
   "source": [
    "random_graphs=[G_renyi, G]\n",
    "names=[\"erdos-renyi\", \"twitter\"]"
   ]
  },
  {
   "cell_type": "code",
   "execution_count": 15,
   "metadata": {
    "scrolled": true
   },
   "outputs": [
    {
     "data": {
      "text/plain": [
       "31.358974358974358"
      ]
     },
     "execution_count": 15,
     "metadata": {},
     "output_type": "execute_result"
    }
   ],
   "source": [
    "#average degrees\n",
    "degrees = G.degree()\n",
    "degree_sum= sum(dict(degrees).values())\n",
    "avg_degree=degree_sum/float(len(G))\n",
    "avg_degree"
   ]
  },
  {
   "cell_type": "code",
   "execution_count": 68,
   "metadata": {},
   "outputs": [],
   "source": [
    "result_df=pd.DataFrame(columns=[\"avg_degree\", \"density\", \"diameter\",\n",
    "                                \"clustering coeff\", \"reciprocity\", \"triadic closure\"])"
   ]
  },
  {
   "cell_type": "code",
   "execution_count": 69,
   "metadata": {},
   "outputs": [
    {
     "name": "stdout",
     "output_type": "stream",
     "text": [
      "Mean Degree 31.435897435897434 Median Degree 32.0 Max Degree 43 Min Degree 21\n",
      "Mean Degree 31.358974358974358 Median Degree 32.5 Max Degree 83 Min Degree 1\n"
     ]
    }
   ],
   "source": [
    "for n,g in zip(names,random_graphs):\n",
    "    #sanity check: avg degree of graphs (needs to be the same for comparision)\n",
    "    degrees = g.degree()\n",
    "    degree_sum= sum(dict(degrees).values())\n",
    "    avg_degree=degree_sum/float(len(g))\n",
    "    \n",
    "    print('Mean Degree', np.mean( [g.degree(n) for n in g.nodes()] ),\n",
    "      'Median Degree', np.median( [g.degree(n) for n in g.nodes()] ),\n",
    "      'Max Degree', np.max( [g.degree(n) for n in g.nodes()] ),\n",
    "      'Min Degree', np.min( [g.degree(n) for n in g.nodes()] ) )\n",
    "    \n",
    "    result_df.loc[n] = [avg_degree, \n",
    "                        nx.density(g), \n",
    "                        nx.diameter(g.to_undirected()),  \n",
    "                        nx.average_clustering(g), \n",
    "                        nx.algorithms.overall_reciprocity(g),\n",
    "                        nx.transitivity(g)]"
   ]
  },
  {
   "cell_type": "code",
   "execution_count": 70,
   "metadata": {
    "scrolled": false
   },
   "outputs": [
    {
     "data": {
      "text/html": [
       "<div>\n",
       "<style scoped>\n",
       "    .dataframe tbody tr th:only-of-type {\n",
       "        vertical-align: middle;\n",
       "    }\n",
       "\n",
       "    .dataframe tbody tr th {\n",
       "        vertical-align: top;\n",
       "    }\n",
       "\n",
       "    .dataframe thead th {\n",
       "        text-align: right;\n",
       "    }\n",
       "</style>\n",
       "<table border=\"1\" class=\"dataframe\">\n",
       "  <thead>\n",
       "    <tr style=\"text-align: right;\">\n",
       "      <th></th>\n",
       "      <th>avg_degree</th>\n",
       "      <th>density</th>\n",
       "      <th>diameter</th>\n",
       "      <th>clustering coeff</th>\n",
       "      <th>reciprocity</th>\n",
       "      <th>triadic closure</th>\n",
       "    </tr>\n",
       "  </thead>\n",
       "  <tbody>\n",
       "    <tr>\n",
       "      <th>erdos-renyi</th>\n",
       "      <td>31.435897</td>\n",
       "      <td>0.204129</td>\n",
       "      <td>2.0</td>\n",
       "      <td>0.202312</td>\n",
       "      <td>0.202284</td>\n",
       "      <td>0.202249</td>\n",
       "    </tr>\n",
       "    <tr>\n",
       "      <th>twitter</th>\n",
       "      <td>31.358974</td>\n",
       "      <td>0.203630</td>\n",
       "      <td>5.0</td>\n",
       "      <td>0.524672</td>\n",
       "      <td>0.783320</td>\n",
       "      <td>0.493619</td>\n",
       "    </tr>\n",
       "  </tbody>\n",
       "</table>\n",
       "</div>"
      ],
      "text/plain": [
       "             avg_degree   density  diameter  clustering coeff  reciprocity  \\\n",
       "erdos-renyi   31.435897  0.204129       2.0          0.202312     0.202284   \n",
       "twitter       31.358974  0.203630       5.0          0.524672     0.783320   \n",
       "\n",
       "             triadic closure  \n",
       "erdos-renyi         0.202249  \n",
       "twitter             0.493619  "
      ]
     },
     "execution_count": 70,
     "metadata": {},
     "output_type": "execute_result"
    }
   ],
   "source": [
    "result_df"
   ]
  },
  {
   "cell_type": "code",
   "execution_count": 72,
   "metadata": {
    "scrolled": true
   },
   "outputs": [
    {
     "data": {
      "image/png": "[encoded data removed]",
      "text/plain": [
       "<Figure size 432x288 with 1 Axes>"
      ]
     },
     "metadata": {
      "needs_background": "light"
     },
     "output_type": "display_data"
    }
   ],
   "source": [
    "plt.title(\"Degree Distributions of Erdos-Renyi Random Graph Model and Twitter Streamer Network\")\n",
    "plt.hist([list([G.degree(n) for n in G.nodes()]),\n",
    "          #list([G_social.degree(n) for n in G_social.nodes()]),\n",
    "         list([G_renyi.degree(n) for n in G_renyi.nodes()])], \n",
    "         bins=20, label=[\"twitter streamer network\",\n",
    "                         #\"karate club\", \n",
    "                         \"erdos-renyi\"])\n",
    "plt.xlabel(\"node degree\")\n",
    "plt.ylabel(\"# nodes with that degree\")\n",
    "plt.legend(loc='upper right')\n",
    "plt.show()"
   ]
  },
  {
   "cell_type": "markdown",
   "metadata": {},
   "source": [
    "## Small World Property"
   ]
  },
  {
   "cell_type": "code",
   "execution_count": null,
   "metadata": {},
   "outputs": [],
   "source": [
    "g_sigma = nx.algorithms.smallworld.sigma(G.to_undirected()) #C/Cr\n",
    "g_omega = nx.algorithms.smallworld.sigma(G.to_undirected())"
   ]
  },
  {
   "cell_type": "code",
   "execution_count": null,
   "metadata": {},
   "outputs": [],
   "source": [
    "g_rand_sigma = nx.algorithms.smallworld.sigma(G_random.to_undirected())\n",
    "g_rand_omega = nx.algorithms.smallworld.sigma(G_random.to_undirected())"
   ]
  },
  {
   "cell_type": "code",
   "execution_count": null,
   "metadata": {},
   "outputs": [],
   "source": [
    "import community"
   ]
  },
  {
   "cell_type": "code",
   "execution_count": null,
   "metadata": {},
   "outputs": [],
   "source": [
    "parts = community.best_partition(G_fb)\n",
    "values = [parts.get(node) for node in G_fb.nodes()]"
   ]
  }
 ],
 "metadata": {
  "kernelspec": {
   "display_name": "Python 3",
   "language": "python",
   "name": "python3"
  },
  "language_info": {
   "codemirror_mode": {
    "name": "ipython",
    "version": 3
   },
   "file_extension": ".py",
   "mimetype": "text/x-python",
   "name": "python",
   "nbconvert_exporter": "python",
   "pygments_lexer": "ipython3",
   "version": "3.7.4"
  }
 },
 "nbformat": 4,
 "nbformat_minor": 4
}
