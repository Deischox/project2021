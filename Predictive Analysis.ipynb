{
 "cells": [
  {
   "cell_type": "markdown",
   "metadata": {},
   "source": [
    "*Predictive Analysis*\n",
    "- **Regression**:multiple liniare Regression\n",
    "    - **Welche Erfolgsfaktoren (Wen kennen, Wie verbunden, Metriken) existieren im Netzwerk?**\n",
    "- **Classification**: multiple logisitische Regression \n",
    "    - mit Zentralitätsmetrikwerten Game Kategorien vorhersagen\n"
   ]
  },
  {
   "cell_type": "code",
   "execution_count": 90,
   "metadata": {},
   "outputs": [],
   "source": [
    "import pandas as pd\n",
    "import networkx as nx\n",
    "import numpy as np\n",
    "\n",
    "import matplotlib.pyplot as plt\n",
    "import matplotlib.cm as cm\n",
    "import seaborn as sns\n",
    "\n",
    "\n",
    "from sklearn.model_selection import train_test_split \n",
    "from sklearn.linear_model import LinearRegression, LogisticRegression\n",
    "from sklearn import metrics\n",
    "\n",
    "\n"
   ]
  },
  {
   "cell_type": "code",
   "execution_count": 91,
   "metadata": {},
   "outputs": [],
   "source": [
    "#load the nx graph object, stored in a pickle file\n",
    "G = nx.read_gpickle(\"who_follows_who_new2.pickle\")"
   ]
  },
  {
   "cell_type": "code",
   "execution_count": 92,
   "metadata": {},
   "outputs": [
    {
     "name": "stdout",
     "output_type": "stream",
     "text": [
      "Name: \n",
      "Type: DiGraph\n",
      "Number of nodes: 78\n",
      "Number of edges: 1223\n",
      "Average in degree:  15.6795\n",
      "Average out degree:  15.6795\n"
     ]
    }
   ],
   "source": [
    "#inspect graph object\n",
    "print(nx.info(G))"
   ]
  },
  {
   "cell_type": "code",
   "execution_count": 93,
   "metadata": {},
   "outputs": [],
   "source": [
    "all_centralities_df = pd.DataFrame()"
   ]
  },
  {
   "cell_type": "code",
   "execution_count": 94,
   "metadata": {},
   "outputs": [],
   "source": [
    "in_deg_iter = G.in_degree()\n",
    "#print(in_deg_iter)\n",
    "in_deg=[v/(78-1) for k, v in in_deg_iter]\n",
    "#in_deg"
   ]
  },
  {
   "cell_type": "code",
   "execution_count": 95,
   "metadata": {},
   "outputs": [],
   "source": [
    "\n",
    "all_centralities_df[\"in_degree\"]=in_deg\n",
    "all_centralities_df[\"betweenness\"]=nx.betweenness_centrality(G).values()\n",
    "all_centralities_df[\"eigenvector\"]=nx.eigenvector_centrality(G).values()\n",
    "all_centralities_df[\"pagerank\"]=nx.pagerank_numpy(G,weight=None).values()\n",
    "all_centralities_df[\"closeness\"]=nx.closeness_centrality(G).values()\n",
    "\n"
   ]
  },
  {
   "cell_type": "code",
   "execution_count": 96,
   "metadata": {},
   "outputs": [
    {
     "data": {
      "text/html": [
       "<div>\n",
       "<style scoped>\n",
       "    .dataframe tbody tr th:only-of-type {\n",
       "        vertical-align: middle;\n",
       "    }\n",
       "\n",
       "    .dataframe tbody tr th {\n",
       "        vertical-align: top;\n",
       "    }\n",
       "\n",
       "    .dataframe thead th {\n",
       "        text-align: right;\n",
       "    }\n",
       "</style>\n",
       "<table border=\"1\" class=\"dataframe\">\n",
       "  <thead>\n",
       "    <tr style=\"text-align: right;\">\n",
       "      <th></th>\n",
       "      <th>in_degree</th>\n",
       "      <th>betweenness</th>\n",
       "      <th>eigenvector</th>\n",
       "      <th>pagerank</th>\n",
       "      <th>closeness</th>\n",
       "    </tr>\n",
       "  </thead>\n",
       "  <tbody>\n",
       "    <tr>\n",
       "      <th>0</th>\n",
       "      <td>34.0</td>\n",
       "      <td>34.0</td>\n",
       "      <td>33.0</td>\n",
       "      <td>31.0</td>\n",
       "      <td>35.0</td>\n",
       "    </tr>\n",
       "    <tr>\n",
       "      <th>1</th>\n",
       "      <td>30.0</td>\n",
       "      <td>45.0</td>\n",
       "      <td>27.0</td>\n",
       "      <td>33.0</td>\n",
       "      <td>28.0</td>\n",
       "    </tr>\n",
       "    <tr>\n",
       "      <th>2</th>\n",
       "      <td>7.0</td>\n",
       "      <td>3.0</td>\n",
       "      <td>10.0</td>\n",
       "      <td>4.0</td>\n",
       "      <td>7.0</td>\n",
       "    </tr>\n",
       "    <tr>\n",
       "      <th>3</th>\n",
       "      <td>64.0</td>\n",
       "      <td>56.0</td>\n",
       "      <td>54.0</td>\n",
       "      <td>60.0</td>\n",
       "      <td>49.0</td>\n",
       "    </tr>\n",
       "    <tr>\n",
       "      <th>4</th>\n",
       "      <td>56.0</td>\n",
       "      <td>13.0</td>\n",
       "      <td>46.0</td>\n",
       "      <td>48.0</td>\n",
       "      <td>45.0</td>\n",
       "    </tr>\n",
       "    <tr>\n",
       "      <th>...</th>\n",
       "      <td>...</td>\n",
       "      <td>...</td>\n",
       "      <td>...</td>\n",
       "      <td>...</td>\n",
       "      <td>...</td>\n",
       "    </tr>\n",
       "    <tr>\n",
       "      <th>73</th>\n",
       "      <td>56.0</td>\n",
       "      <td>51.0</td>\n",
       "      <td>64.0</td>\n",
       "      <td>61.0</td>\n",
       "      <td>66.0</td>\n",
       "    </tr>\n",
       "    <tr>\n",
       "      <th>74</th>\n",
       "      <td>49.0</td>\n",
       "      <td>26.0</td>\n",
       "      <td>58.0</td>\n",
       "      <td>56.0</td>\n",
       "      <td>57.0</td>\n",
       "    </tr>\n",
       "    <tr>\n",
       "      <th>75</th>\n",
       "      <td>56.0</td>\n",
       "      <td>67.0</td>\n",
       "      <td>62.0</td>\n",
       "      <td>64.0</td>\n",
       "      <td>62.0</td>\n",
       "    </tr>\n",
       "    <tr>\n",
       "      <th>76</th>\n",
       "      <td>66.0</td>\n",
       "      <td>71.0</td>\n",
       "      <td>65.0</td>\n",
       "      <td>68.0</td>\n",
       "      <td>66.0</td>\n",
       "    </tr>\n",
       "    <tr>\n",
       "      <th>77</th>\n",
       "      <td>77.0</td>\n",
       "      <td>63.0</td>\n",
       "      <td>76.0</td>\n",
       "      <td>55.0</td>\n",
       "      <td>76.0</td>\n",
       "    </tr>\n",
       "  </tbody>\n",
       "</table>\n",
       "<p>78 rows × 5 columns</p>\n",
       "</div>"
      ],
      "text/plain": [
       "    in_degree  betweenness  eigenvector  pagerank  closeness\n",
       "0        34.0         34.0         33.0      31.0       35.0\n",
       "1        30.0         45.0         27.0      33.0       28.0\n",
       "2         7.0          3.0         10.0       4.0        7.0\n",
       "3        64.0         56.0         54.0      60.0       49.0\n",
       "4        56.0         13.0         46.0      48.0       45.0\n",
       "..        ...          ...          ...       ...        ...\n",
       "73       56.0         51.0         64.0      61.0       66.0\n",
       "74       49.0         26.0         58.0      56.0       57.0\n",
       "75       56.0         67.0         62.0      64.0       62.0\n",
       "76       66.0         71.0         65.0      68.0       66.0\n",
       "77       77.0         63.0         76.0      55.0       76.0\n",
       "\n",
       "[78 rows x 5 columns]"
      ]
     },
     "execution_count": 96,
     "metadata": {},
     "output_type": "execute_result"
    }
   ],
   "source": [
    "df_r = all_centralities_df.rank(axis=0,method=\"max\", ascending=False)\n",
    "df_r"
   ]
  },
  {
   "cell_type": "code",
   "execution_count": 97,
   "metadata": {
    "scrolled": true
   },
   "outputs": [
    {
     "data": {
      "image/png": "[encoded data removed]",
      "text/plain": [
       "<Figure size 432x288 with 2 Axes>"
      ]
     },
     "metadata": {
      "needs_background": "light"
     },
     "output_type": "display_data"
    }
   ],
   "source": [
    "corrMatrix = all_centralities_df.corr(\"spearman\")\n",
    "\n",
    "heatmap=sns.heatmap(corrMatrix, annot=True)\n",
    "heatmap.set_title('Correlation Heatmap', fontdict={'fontsize':18}, pad=16);\n",
    "plt.savefig(\"indeg_corr_heatmap.png\", dpi=300, bbox_inches='tight')\n",
    "plt.show()"
   ]
  },
  {
   "cell_type": "code",
   "execution_count": 98,
   "metadata": {},
   "outputs": [
    {
     "data": {
      "text/html": [
       "<div>\n",
       "<style scoped>\n",
       "    .dataframe tbody tr th:only-of-type {\n",
       "        vertical-align: middle;\n",
       "    }\n",
       "\n",
       "    .dataframe tbody tr th {\n",
       "        vertical-align: top;\n",
       "    }\n",
       "\n",
       "    .dataframe thead th {\n",
       "        text-align: right;\n",
       "    }\n",
       "</style>\n",
       "<table border=\"1\" class=\"dataframe\">\n",
       "  <thead>\n",
       "    <tr style=\"text-align: right;\">\n",
       "      <th></th>\n",
       "      <th>betweenness</th>\n",
       "      <th>eigenvector</th>\n",
       "      <th>pagerank</th>\n",
       "      <th>closeness</th>\n",
       "    </tr>\n",
       "  </thead>\n",
       "  <tbody>\n",
       "    <tr>\n",
       "      <th>0</th>\n",
       "      <td>0.008887</td>\n",
       "      <td>0.096742</td>\n",
       "      <td>0.014448</td>\n",
       "      <td>0.495034</td>\n",
       "    </tr>\n",
       "    <tr>\n",
       "      <th>1</th>\n",
       "      <td>0.003348</td>\n",
       "      <td>0.129003</td>\n",
       "      <td>0.013877</td>\n",
       "      <td>0.521897</td>\n",
       "    </tr>\n",
       "    <tr>\n",
       "      <th>2</th>\n",
       "      <td>0.055871</td>\n",
       "      <td>0.189312</td>\n",
       "      <td>0.026204</td>\n",
       "      <td>0.595794</td>\n",
       "    </tr>\n",
       "    <tr>\n",
       "      <th>3</th>\n",
       "      <td>0.000742</td>\n",
       "      <td>0.036672</td>\n",
       "      <td>0.005746</td>\n",
       "      <td>0.440031</td>\n",
       "    </tr>\n",
       "    <tr>\n",
       "      <th>4</th>\n",
       "      <td>0.026423</td>\n",
       "      <td>0.055636</td>\n",
       "      <td>0.008580</td>\n",
       "      <td>0.457991</td>\n",
       "    </tr>\n",
       "    <tr>\n",
       "      <th>...</th>\n",
       "      <td>...</td>\n",
       "      <td>...</td>\n",
       "      <td>...</td>\n",
       "      <td>...</td>\n",
       "    </tr>\n",
       "    <tr>\n",
       "      <th>73</th>\n",
       "      <td>0.001198</td>\n",
       "      <td>0.019463</td>\n",
       "      <td>0.005663</td>\n",
       "      <td>0.384712</td>\n",
       "    </tr>\n",
       "    <tr>\n",
       "      <th>74</th>\n",
       "      <td>0.010184</td>\n",
       "      <td>0.029656</td>\n",
       "      <td>0.006446</td>\n",
       "      <td>0.413035</td>\n",
       "    </tr>\n",
       "    <tr>\n",
       "      <th>75</th>\n",
       "      <td>0.000107</td>\n",
       "      <td>0.023879</td>\n",
       "      <td>0.005382</td>\n",
       "      <td>0.400742</td>\n",
       "    </tr>\n",
       "    <tr>\n",
       "      <th>76</th>\n",
       "      <td>0.000011</td>\n",
       "      <td>0.017044</td>\n",
       "      <td>0.003438</td>\n",
       "      <td>0.384712</td>\n",
       "    </tr>\n",
       "    <tr>\n",
       "      <th>77</th>\n",
       "      <td>0.000171</td>\n",
       "      <td>0.000114</td>\n",
       "      <td>0.006744</td>\n",
       "      <td>0.241894</td>\n",
       "    </tr>\n",
       "  </tbody>\n",
       "</table>\n",
       "<p>78 rows × 4 columns</p>\n",
       "</div>"
      ],
      "text/plain": [
       "    betweenness  eigenvector  pagerank  closeness\n",
       "0      0.008887     0.096742  0.014448   0.495034\n",
       "1      0.003348     0.129003  0.013877   0.521897\n",
       "2      0.055871     0.189312  0.026204   0.595794\n",
       "3      0.000742     0.036672  0.005746   0.440031\n",
       "4      0.026423     0.055636  0.008580   0.457991\n",
       "..          ...          ...       ...        ...\n",
       "73     0.001198     0.019463  0.005663   0.384712\n",
       "74     0.010184     0.029656  0.006446   0.413035\n",
       "75     0.000107     0.023879  0.005382   0.400742\n",
       "76     0.000011     0.017044  0.003438   0.384712\n",
       "77     0.000171     0.000114  0.006744   0.241894\n",
       "\n",
       "[78 rows x 4 columns]"
      ]
     },
     "execution_count": 98,
     "metadata": {},
     "output_type": "execute_result"
    }
   ],
   "source": [
    "all_centralities_df.iloc[:,1:]"
   ]
  },
  {
   "cell_type": "code",
   "execution_count": 99,
   "metadata": {},
   "outputs": [],
   "source": [
    "X = pd.DataFrame(all_centralities_df.iloc[:,1:]) #all columns besides in-deg\n",
    "#X = pd.DataFrame(all_centralities_df[[\"pagerank\", \"eigenvector\"]])\n",
    "\n",
    "\n",
    "\n",
    "y1 = all_centralities_df[\"in_degree\"].to_list()\n"
   ]
  },
  {
   "cell_type": "code",
   "execution_count": 100,
   "metadata": {},
   "outputs": [
    {
     "data": {
      "text/plain": [
       "(78, 4)"
      ]
     },
     "execution_count": 100,
     "metadata": {},
     "output_type": "execute_result"
    }
   ],
   "source": [
    "X.shape"
   ]
  },
  {
   "cell_type": "code",
   "execution_count": 101,
   "metadata": {},
   "outputs": [],
   "source": [
    "X_train, X_test, y_train, y_test = train_test_split(X, y1, test_size=0.2, random_state=0)"
   ]
  },
  {
   "cell_type": "code",
   "execution_count": 102,
   "metadata": {},
   "outputs": [
    {
     "data": {
      "text/plain": [
       "LinearRegression()"
      ]
     },
     "execution_count": 102,
     "metadata": {},
     "output_type": "execute_result"
    }
   ],
   "source": [
    "regressor = LinearRegression()  \n",
    "regressor.fit(X_train, y_train) #training the algorithm"
   ]
  },
  {
   "cell_type": "code",
   "execution_count": 103,
   "metadata": {},
   "outputs": [
    {
     "name": "stdout",
     "output_type": "stream",
     "text": [
      "-0.03858146320260816\n",
      "[-0.01432283  0.67422745 12.13582981  0.05212375]\n"
     ]
    }
   ],
   "source": [
    "#To retrieve the intercept:\n",
    "print(regressor.intercept_)\n",
    "\n",
    "#For retrieving the slope:\n",
    "print(regressor.coef_)"
   ]
  },
  {
   "cell_type": "code",
   "execution_count": 104,
   "metadata": {},
   "outputs": [
    {
     "name": "stdout",
     "output_type": "stream",
     "text": [
      "coefficient of determination: 0.9873956776517097\n"
     ]
    }
   ],
   "source": [
    "r_sq = regressor.score(X_train, y_train)\n",
    "print('coefficient of determination:', r_sq)"
   ]
  },
  {
   "cell_type": "code",
   "execution_count": 105,
   "metadata": {},
   "outputs": [],
   "source": [
    "y_pred = regressor.predict(X_test)"
   ]
  },
  {
   "cell_type": "code",
   "execution_count": 106,
   "metadata": {},
   "outputs": [
    {
     "data": {
      "text/html": [
       "<div>\n",
       "<style scoped>\n",
       "    .dataframe tbody tr th:only-of-type {\n",
       "        vertical-align: middle;\n",
       "    }\n",
       "\n",
       "    .dataframe tbody tr th {\n",
       "        vertical-align: top;\n",
       "    }\n",
       "\n",
       "    .dataframe thead th {\n",
       "        text-align: right;\n",
       "    }\n",
       "</style>\n",
       "<table border=\"1\" class=\"dataframe\">\n",
       "  <thead>\n",
       "    <tr style=\"text-align: right;\">\n",
       "      <th></th>\n",
       "      <th>Actual</th>\n",
       "      <th>Predicted</th>\n",
       "    </tr>\n",
       "  </thead>\n",
       "  <tbody>\n",
       "    <tr>\n",
       "      <th>0</th>\n",
       "      <td>0.519481</td>\n",
       "      <td>0.476450</td>\n",
       "    </tr>\n",
       "    <tr>\n",
       "      <th>1</th>\n",
       "      <td>0.129870</td>\n",
       "      <td>0.121498</td>\n",
       "    </tr>\n",
       "    <tr>\n",
       "      <th>2</th>\n",
       "      <td>0.207792</td>\n",
       "      <td>0.196380</td>\n",
       "    </tr>\n",
       "    <tr>\n",
       "      <th>3</th>\n",
       "      <td>0.376623</td>\n",
       "      <td>0.364519</td>\n",
       "    </tr>\n",
       "    <tr>\n",
       "      <th>4</th>\n",
       "      <td>0.142857</td>\n",
       "      <td>0.157248</td>\n",
       "    </tr>\n",
       "    <tr>\n",
       "      <th>5</th>\n",
       "      <td>0.207792</td>\n",
       "      <td>0.216818</td>\n",
       "    </tr>\n",
       "    <tr>\n",
       "      <th>6</th>\n",
       "      <td>0.103896</td>\n",
       "      <td>0.063308</td>\n",
       "    </tr>\n",
       "    <tr>\n",
       "      <th>7</th>\n",
       "      <td>0.103896</td>\n",
       "      <td>0.063723</td>\n",
       "    </tr>\n",
       "    <tr>\n",
       "      <th>8</th>\n",
       "      <td>0.077922</td>\n",
       "      <td>0.078142</td>\n",
       "    </tr>\n",
       "    <tr>\n",
       "      <th>9</th>\n",
       "      <td>0.155844</td>\n",
       "      <td>0.153373</td>\n",
       "    </tr>\n",
       "    <tr>\n",
       "      <th>10</th>\n",
       "      <td>0.272727</td>\n",
       "      <td>0.273383</td>\n",
       "    </tr>\n",
       "    <tr>\n",
       "      <th>11</th>\n",
       "      <td>0.012987</td>\n",
       "      <td>0.017694</td>\n",
       "    </tr>\n",
       "    <tr>\n",
       "      <th>12</th>\n",
       "      <td>0.428571</td>\n",
       "      <td>0.437320</td>\n",
       "    </tr>\n",
       "    <tr>\n",
       "      <th>13</th>\n",
       "      <td>0.155844</td>\n",
       "      <td>0.124017</td>\n",
       "    </tr>\n",
       "    <tr>\n",
       "      <th>14</th>\n",
       "      <td>0.129870</td>\n",
       "      <td>0.152925</td>\n",
       "    </tr>\n",
       "    <tr>\n",
       "      <th>15</th>\n",
       "      <td>0.103896</td>\n",
       "      <td>0.116515</td>\n",
       "    </tr>\n",
       "  </tbody>\n",
       "</table>\n",
       "</div>"
      ],
      "text/plain": [
       "      Actual  Predicted\n",
       "0   0.519481   0.476450\n",
       "1   0.129870   0.121498\n",
       "2   0.207792   0.196380\n",
       "3   0.376623   0.364519\n",
       "4   0.142857   0.157248\n",
       "5   0.207792   0.216818\n",
       "6   0.103896   0.063308\n",
       "7   0.103896   0.063723\n",
       "8   0.077922   0.078142\n",
       "9   0.155844   0.153373\n",
       "10  0.272727   0.273383\n",
       "11  0.012987   0.017694\n",
       "12  0.428571   0.437320\n",
       "13  0.155844   0.124017\n",
       "14  0.129870   0.152925\n",
       "15  0.103896   0.116515"
      ]
     },
     "execution_count": 106,
     "metadata": {},
     "output_type": "execute_result"
    }
   ],
   "source": [
    "df = pd.DataFrame({'Actual': y_test, 'Predicted': y_pred})\n",
    "df"
   ]
  },
  {
   "cell_type": "code",
   "execution_count": 107,
   "metadata": {},
   "outputs": [
    {
     "data": {
      "image/png": "[encoded data removed]",
      "text/plain": [
       "<Figure size 1152x720 with 1 Axes>"
      ]
     },
     "metadata": {
      "needs_background": "light"
     },
     "output_type": "display_data"
    }
   ],
   "source": [
    "df1 = df\n",
    "df1.plot(kind='bar',figsize=(16,10))\n",
    "plt.grid(which='major', linestyle='-', linewidth='0.5', color='green')\n",
    "plt.grid(which='minor', linestyle=':', linewidth='0.5', color='black')\n",
    "plt.xlabel(\"test sample\")\n",
    "plt.ylabel(\"In-Degree\")\n",
    "\n",
    "plt.savefig('lr_indeg_pred.png', dpi=300, bbox_inches='tight')\n",
    "plt.show()"
   ]
  },
  {
   "cell_type": "code",
   "execution_count": 108,
   "metadata": {},
   "outputs": [
    {
     "name": "stdout",
     "output_type": "stream",
     "text": [
      "Mean Absolute Error: 0.01646261886294683\n",
      "Mean Squared Error: 0.0004723392028565611\n",
      "Root Mean Squared Error: 0.021733366118863433\n"
     ]
    }
   ],
   "source": [
    "print('Mean Absolute Error:', metrics.mean_absolute_error(y_test, y_pred))  \n",
    "print('Mean Squared Error:', metrics.mean_squared_error(y_test, y_pred))  \n",
    "print('Root Mean Squared Error:', np.sqrt(metrics.mean_squared_error(y_test, y_pred)))"
   ]
  },
  {
   "cell_type": "markdown",
   "metadata": {},
   "source": [
    "The adjusted R-squared is a modified version of R-squared that adjusts for the number of predictors in a regression model. It is calculated as:\n",
    "\n",
    "Adjusted R2 = 1 – [(1-R2)*(n-1)/(n-k-1)]\n",
    "\n",
    "where:\n",
    "\n",
    "    R2: The R2 of the model\n",
    "    n: The number of observations\n",
    "    k: The number of predictor variables\n"
   ]
  },
  {
   "cell_type": "code",
   "execution_count": 109,
   "metadata": {},
   "outputs": [
    {
     "name": "stdout",
     "output_type": "stream",
     "text": [
      "Adjusted R^2: 0.9638651344112218\n"
     ]
    }
   ],
   "source": [
    "#calculate adj R^2 for TEST DATA\n",
    "r2_score=metrics.r2_score(y_test, y_pred)\n",
    "n = X_test.shape[0]\n",
    "k = X_test.shape[1]\n",
    "print(\"Adjusted R^2:\", 1-(((1-r2_score)*(n-1))/(n-k-1)))"
   ]
  },
  {
   "cell_type": "code",
   "execution_count": 110,
   "metadata": {},
   "outputs": [
    {
     "name": "stdout",
     "output_type": "stream",
     "text": [
      "16\n",
      "4\n",
      "0.9735010985682293\n"
     ]
    }
   ],
   "source": [
    "#check adjusted R^2 params\n",
    "print(n)\n",
    "print(k)\n",
    "print(r2_score)"
   ]
  },
  {
   "cell_type": "code",
   "execution_count": 111,
   "metadata": {
    "scrolled": true
   },
   "outputs": [
    {
     "name": "stdout",
     "output_type": "stream",
     "text": [
      "                            OLS Regression Results                            \n",
      "==============================================================================\n",
      "Dep. Variable:              in_degree   R-squared:                       0.986\n",
      "Model:                            OLS   Adj. R-squared:                  0.985\n",
      "Method:                 Least Squares   F-statistic:                     1260.\n",
      "Date:                Mon, 13 Sep 2021   Prob (F-statistic):           1.64e-66\n",
      "Time:                        14:18:04   Log-Likelihood:                 204.41\n",
      "No. Observations:                  78   AIC:                            -398.8\n",
      "Df Residuals:                      73   BIC:                            -387.0\n",
      "Df Model:                           4                                         \n",
      "Covariance Type:            nonrobust                                         \n",
      "===============================================================================\n",
      "                  coef    std err          t      P>|t|      [0.025      0.975]\n",
      "-------------------------------------------------------------------------------\n",
      "Intercept      -0.0392      0.012     -3.201      0.002      -0.064      -0.015\n",
      "pagerank       11.6448      1.094     10.640      0.000       9.464      13.826\n",
      "eigenvector     0.6557      0.121      5.415      0.000       0.414       0.897\n",
      "closeness       0.0658      0.034      1.917      0.059      -0.003       0.134\n",
      "betweenness     0.2817      0.184      1.533      0.129      -0.084       0.648\n",
      "==============================================================================\n",
      "Omnibus:                        3.099   Durbin-Watson:                   1.664\n",
      "Prob(Omnibus):                  0.212   Jarque-Bera (JB):                2.388\n",
      "Skew:                           0.400   Prob(JB):                        0.303\n",
      "Kurtosis:                       3.309   Cond. No.                         593.\n",
      "==============================================================================\n",
      "\n",
      "Notes:\n",
      "[1] Standard Errors assume that the covariance matrix of the errors is correctly specified.\n"
     ]
    }
   ],
   "source": [
    "import statsmodels.formula.api as sm\n",
    "\n",
    "#use OLS to get more stats about the regression \n",
    "#and to backward elimination based on P>|t|\n",
    "result = sm.ols(formula=\"in_degree ~ pagerank + eigenvector + closeness + betweenness\",\n",
    "                  data=all_centralities_df).fit()\n",
    "\n",
    "\n",
    "print(result.summary())\n"
   ]
  },
  {
   "cell_type": "code",
   "execution_count": 126,
   "metadata": {
    "scrolled": true
   },
   "outputs": [
    {
     "name": "stdout",
     "output_type": "stream",
     "text": [
      "                            OLS Regression Results                            \n",
      "==============================================================================\n",
      "Dep. Variable:              in_degree   R-squared:                       0.983\n",
      "Model:                            OLS   Adj. R-squared:                  0.982\n",
      "Method:                 Least Squares   F-statistic:                     1394.\n",
      "Date:                Mon, 13 Sep 2021   Prob (F-statistic):           6.51e-44\n",
      "Time:                        14:18:42   Log-Likelihood:                 132.43\n",
      "No. Observations:                  52   AIC:                            -258.9\n",
      "Df Residuals:                      49   BIC:                            -253.0\n",
      "Df Model:                           2                                         \n",
      "Covariance Type:            nonrobust                                         \n",
      "===============================================================================\n",
      "                  coef    std err          t      P>|t|      [0.025      0.975]\n",
      "-------------------------------------------------------------------------------\n",
      "Intercept      -0.0140      0.006     -2.389      0.021      -0.026      -0.002\n",
      "pagerank       13.7693      1.161     11.861      0.000      11.436      16.102\n",
      "eigenvector     0.5001      0.140      3.567      0.001       0.218       0.782\n",
      "==============================================================================\n",
      "Omnibus:                        3.041   Durbin-Watson:                   1.858\n",
      "Prob(Omnibus):                  0.219   Jarque-Bera (JB):                2.899\n",
      "Skew:                           0.554   Prob(JB):                        0.235\n",
      "Kurtosis:                       2.671   Cond. No.                         434.\n",
      "==============================================================================\n",
      "\n",
      "Notes:\n",
      "[1] Standard Errors assume that the covariance matrix of the errors is correctly specified.\n"
     ]
    }
   ],
   "source": [
    "result = sm.ols(formula=\"in_degree ~ pagerank + eigenvector\",\n",
    "                  data=all_centralities_df).fit()\n",
    "\n",
    "print(result.summary())"
   ]
  },
  {
   "cell_type": "markdown",
   "metadata": {},
   "source": [
    "## **Classification**\n"
   ]
  },
  {
   "cell_type": "code",
   "execution_count": 113,
   "metadata": {},
   "outputs": [
    {
     "data": {
      "text/html": [
       "<div>\n",
       "<style scoped>\n",
       "    .dataframe tbody tr th:only-of-type {\n",
       "        vertical-align: middle;\n",
       "    }\n",
       "\n",
       "    .dataframe tbody tr th {\n",
       "        vertical-align: top;\n",
       "    }\n",
       "\n",
       "    .dataframe thead th {\n",
       "        text-align: right;\n",
       "    }\n",
       "</style>\n",
       "<table border=\"1\" class=\"dataframe\">\n",
       "  <thead>\n",
       "    <tr style=\"text-align: right;\">\n",
       "      <th></th>\n",
       "      <th>in_degree</th>\n",
       "      <th>betweenness</th>\n",
       "      <th>eigenvector</th>\n",
       "      <th>pagerank</th>\n",
       "      <th>closeness</th>\n",
       "      <th>game</th>\n",
       "    </tr>\n",
       "  </thead>\n",
       "  <tbody>\n",
       "    <tr>\n",
       "      <th>count</th>\n",
       "      <td>78.000000</td>\n",
       "      <td>78.000000</td>\n",
       "      <td>7.800000e+01</td>\n",
       "      <td>78.000000</td>\n",
       "      <td>78.000000</td>\n",
       "      <td>77.000000</td>\n",
       "    </tr>\n",
       "    <tr>\n",
       "      <th>mean</th>\n",
       "      <td>0.203630</td>\n",
       "      <td>0.012367</td>\n",
       "      <td>9.039556e-02</td>\n",
       "      <td>0.012821</td>\n",
       "      <td>0.467334</td>\n",
       "      <td>8.636364</td>\n",
       "    </tr>\n",
       "    <tr>\n",
       "      <th>std</th>\n",
       "      <td>0.148289</td>\n",
       "      <td>0.017789</td>\n",
       "      <td>6.862605e-02</td>\n",
       "      <td>0.008004</td>\n",
       "      <td>0.115084</td>\n",
       "      <td>5.406889</td>\n",
       "    </tr>\n",
       "    <tr>\n",
       "      <th>min</th>\n",
       "      <td>0.000000</td>\n",
       "      <td>0.000000</td>\n",
       "      <td>4.573403e-22</td>\n",
       "      <td>0.002119</td>\n",
       "      <td>0.000000</td>\n",
       "      <td>4.000000</td>\n",
       "    </tr>\n",
       "    <tr>\n",
       "      <th>25%</th>\n",
       "      <td>0.081169</td>\n",
       "      <td>0.000445</td>\n",
       "      <td>2.926825e-02</td>\n",
       "      <td>0.005950</td>\n",
       "      <td>0.406185</td>\n",
       "      <td>4.000000</td>\n",
       "    </tr>\n",
       "    <tr>\n",
       "      <th>50%</th>\n",
       "      <td>0.175325</td>\n",
       "      <td>0.006069</td>\n",
       "      <td>8.033884e-02</td>\n",
       "      <td>0.012032</td>\n",
       "      <td>0.486105</td>\n",
       "      <td>6.000000</td>\n",
       "    </tr>\n",
       "    <tr>\n",
       "      <th>75%</th>\n",
       "      <td>0.298701</td>\n",
       "      <td>0.015088</td>\n",
       "      <td>1.450117e-01</td>\n",
       "      <td>0.017703</td>\n",
       "      <td>0.541855</td>\n",
       "      <td>12.000000</td>\n",
       "    </tr>\n",
       "    <tr>\n",
       "      <th>max</th>\n",
       "      <td>0.571429</td>\n",
       "      <td>0.098117</td>\n",
       "      <td>2.429430e-01</td>\n",
       "      <td>0.035526</td>\n",
       "      <td>0.660046</td>\n",
       "      <td>23.000000</td>\n",
       "    </tr>\n",
       "  </tbody>\n",
       "</table>\n",
       "</div>"
      ],
      "text/plain": [
       "       in_degree  betweenness   eigenvector   pagerank  closeness       game\n",
       "count  78.000000    78.000000  7.800000e+01  78.000000  78.000000  77.000000\n",
       "mean    0.203630     0.012367  9.039556e-02   0.012821   0.467334   8.636364\n",
       "std     0.148289     0.017789  6.862605e-02   0.008004   0.115084   5.406889\n",
       "min     0.000000     0.000000  4.573403e-22   0.002119   0.000000   4.000000\n",
       "25%     0.081169     0.000445  2.926825e-02   0.005950   0.406185   4.000000\n",
       "50%     0.175325     0.006069  8.033884e-02   0.012032   0.486105   6.000000\n",
       "75%     0.298701     0.015088  1.450117e-01   0.017703   0.541855  12.000000\n",
       "max     0.571429     0.098117  2.429430e-01   0.035526   0.660046  23.000000"
      ]
     },
     "execution_count": 113,
     "metadata": {},
     "output_type": "execute_result"
    }
   ],
   "source": [
    "all_centralities_df[\"game\"]=[d[\"game\"] for n,d in G.nodes(data=True)]\n",
    "all_centralities_df.describe()"
   ]
  },
  {
   "cell_type": "code",
   "execution_count": 114,
   "metadata": {},
   "outputs": [],
   "source": [
    "all_centralities_df.dropna(inplace=True)"
   ]
  },
  {
   "cell_type": "code",
   "execution_count": 115,
   "metadata": {},
   "outputs": [
    {
     "name": "stderr",
     "output_type": "stream",
     "text": [
      "/Applications/anaconda3/lib/python3.7/site-packages/pandas/core/series.py:4515: SettingWithCopyWarning: \n",
      "A value is trying to be set on a copy of a slice from a DataFrame\n",
      "\n",
      "See the caveats in the documentation: https://pandas.pydata.org/pandas-docs/stable/user_guide/indexing.html#returning-a-view-versus-a-copy\n",
      "  method=method,\n"
     ]
    }
   ],
   "source": [
    "#select games with at least 4 streamers\n",
    "all_centralities_df = all_centralities_df.loc[(all_centralities_df['game'] == 4.0) | \n",
    "                                              (all_centralities_df['game'] == 5.0) |\n",
    "                                             (all_centralities_df['game'] == 6.0) | \n",
    "                                             (all_centralities_df['game'] == 8.0) |\n",
    "                                             (all_centralities_df['game'] == 12.0)]\n",
    "\n",
    "all_centralities_df[\"game\"].replace({4.0: \"Just Chatting\", 5.0: \"League of Legends\", 6.0 : \"Variety\",\n",
    "                   8.0 : \"Fortnite\" , 12.0 : \"GTA 5\"}, inplace=True)"
   ]
  },
  {
   "cell_type": "code",
   "execution_count": 116,
   "metadata": {
    "scrolled": true
   },
   "outputs": [
    {
     "data": {
      "text/plain": [
       "array(['League of Legends', 'Variety', 'GTA 5', 'Just Chatting',\n",
       "       'Fortnite'], dtype=object)"
      ]
     },
     "execution_count": 116,
     "metadata": {},
     "output_type": "execute_result"
    }
   ],
   "source": [
    "all_centralities_df.game.unique()"
   ]
  },
  {
   "cell_type": "code",
   "execution_count": 117,
   "metadata": {},
   "outputs": [],
   "source": [
    "X=all_centralities_df.iloc[:,:-1]\n",
    "#target value for classification: game category\n",
    "y2 = all_centralities_df[\"game\"]"
   ]
  },
  {
   "cell_type": "code",
   "execution_count": 118,
   "metadata": {
    "collapsed": true
   },
   "outputs": [
    {
     "data": {
      "text/html": [
       "<div>\n",
       "<style scoped>\n",
       "    .dataframe tbody tr th:only-of-type {\n",
       "        vertical-align: middle;\n",
       "    }\n",
       "\n",
       "    .dataframe tbody tr th {\n",
       "        vertical-align: top;\n",
       "    }\n",
       "\n",
       "    .dataframe thead th {\n",
       "        text-align: right;\n",
       "    }\n",
       "</style>\n",
       "<table border=\"1\" class=\"dataframe\">\n",
       "  <thead>\n",
       "    <tr style=\"text-align: right;\">\n",
       "      <th></th>\n",
       "      <th>in_degree</th>\n",
       "      <th>betweenness</th>\n",
       "      <th>eigenvector</th>\n",
       "      <th>pagerank</th>\n",
       "      <th>closeness</th>\n",
       "    </tr>\n",
       "  </thead>\n",
       "  <tbody>\n",
       "    <tr>\n",
       "      <th>0</th>\n",
       "      <td>0.220779</td>\n",
       "      <td>0.008887</td>\n",
       "      <td>0.096742</td>\n",
       "      <td>0.014448</td>\n",
       "      <td>0.495034</td>\n",
       "    </tr>\n",
       "    <tr>\n",
       "      <th>2</th>\n",
       "      <td>0.428571</td>\n",
       "      <td>0.055871</td>\n",
       "      <td>0.189312</td>\n",
       "      <td>0.026204</td>\n",
       "      <td>0.595794</td>\n",
       "    </tr>\n",
       "    <tr>\n",
       "      <th>3</th>\n",
       "      <td>0.064935</td>\n",
       "      <td>0.000742</td>\n",
       "      <td>0.036672</td>\n",
       "      <td>0.005746</td>\n",
       "      <td>0.440031</td>\n",
       "    </tr>\n",
       "    <tr>\n",
       "      <th>10</th>\n",
       "      <td>0.194805</td>\n",
       "      <td>0.004843</td>\n",
       "      <td>0.090145</td>\n",
       "      <td>0.011790</td>\n",
       "      <td>0.484350</td>\n",
       "    </tr>\n",
       "    <tr>\n",
       "      <th>13</th>\n",
       "      <td>0.051948</td>\n",
       "      <td>0.001340</td>\n",
       "      <td>0.011710</td>\n",
       "      <td>0.003912</td>\n",
       "      <td>0.365895</td>\n",
       "    </tr>\n",
       "    <tr>\n",
       "      <th>14</th>\n",
       "      <td>0.025974</td>\n",
       "      <td>0.000103</td>\n",
       "      <td>0.013238</td>\n",
       "      <td>0.003203</td>\n",
       "      <td>0.400742</td>\n",
       "    </tr>\n",
       "    <tr>\n",
       "      <th>17</th>\n",
       "      <td>0.194805</td>\n",
       "      <td>0.014686</td>\n",
       "      <td>0.096342</td>\n",
       "      <td>0.013002</td>\n",
       "      <td>0.487860</td>\n",
       "    </tr>\n",
       "    <tr>\n",
       "      <th>20</th>\n",
       "      <td>0.402597</td>\n",
       "      <td>0.020190</td>\n",
       "      <td>0.190078</td>\n",
       "      <td>0.022344</td>\n",
       "      <td>0.585432</td>\n",
       "    </tr>\n",
       "    <tr>\n",
       "      <th>21</th>\n",
       "      <td>0.012987</td>\n",
       "      <td>0.000120</td>\n",
       "      <td>0.001294</td>\n",
       "      <td>0.002854</td>\n",
       "      <td>0.284070</td>\n",
       "    </tr>\n",
       "    <tr>\n",
       "      <th>22</th>\n",
       "      <td>0.389610</td>\n",
       "      <td>0.029126</td>\n",
       "      <td>0.197038</td>\n",
       "      <td>0.022983</td>\n",
       "      <td>0.590567</td>\n",
       "    </tr>\n",
       "    <tr>\n",
       "      <th>23</th>\n",
       "      <td>0.285714</td>\n",
       "      <td>0.005889</td>\n",
       "      <td>0.159897</td>\n",
       "      <td>0.016258</td>\n",
       "      <td>0.538597</td>\n",
       "    </tr>\n",
       "    <tr>\n",
       "      <th>25</th>\n",
       "      <td>0.428571</td>\n",
       "      <td>0.015822</td>\n",
       "      <td>0.203238</td>\n",
       "      <td>0.025653</td>\n",
       "      <td>0.606529</td>\n",
       "    </tr>\n",
       "    <tr>\n",
       "      <th>26</th>\n",
       "      <td>0.350649</td>\n",
       "      <td>0.009927</td>\n",
       "      <td>0.191212</td>\n",
       "      <td>0.019428</td>\n",
       "      <td>0.570548</td>\n",
       "    </tr>\n",
       "    <tr>\n",
       "      <th>27</th>\n",
       "      <td>0.129870</td>\n",
       "      <td>0.001198</td>\n",
       "      <td>0.046414</td>\n",
       "      <td>0.008736</td>\n",
       "      <td>0.437173</td>\n",
       "    </tr>\n",
       "    <tr>\n",
       "      <th>28</th>\n",
       "      <td>0.220779</td>\n",
       "      <td>0.009490</td>\n",
       "      <td>0.115383</td>\n",
       "      <td>0.013201</td>\n",
       "      <td>0.506201</td>\n",
       "    </tr>\n",
       "    <tr>\n",
       "      <th>29</th>\n",
       "      <td>0.402597</td>\n",
       "      <td>0.054999</td>\n",
       "      <td>0.147566</td>\n",
       "      <td>0.022686</td>\n",
       "      <td>0.575425</td>\n",
       "    </tr>\n",
       "    <tr>\n",
       "      <th>30</th>\n",
       "      <td>0.207792</td>\n",
       "      <td>0.006428</td>\n",
       "      <td>0.080219</td>\n",
       "      <td>0.012801</td>\n",
       "      <td>0.491421</td>\n",
       "    </tr>\n",
       "    <tr>\n",
       "      <th>31</th>\n",
       "      <td>0.233766</td>\n",
       "      <td>0.007870</td>\n",
       "      <td>0.111029</td>\n",
       "      <td>0.012970</td>\n",
       "      <td>0.498701</td>\n",
       "    </tr>\n",
       "    <tr>\n",
       "      <th>32</th>\n",
       "      <td>0.298701</td>\n",
       "      <td>0.009319</td>\n",
       "      <td>0.161201</td>\n",
       "      <td>0.017443</td>\n",
       "      <td>0.547355</td>\n",
       "    </tr>\n",
       "    <tr>\n",
       "      <th>33</th>\n",
       "      <td>0.298701</td>\n",
       "      <td>0.009603</td>\n",
       "      <td>0.146514</td>\n",
       "      <td>0.017192</td>\n",
       "      <td>0.551842</td>\n",
       "    </tr>\n",
       "    <tr>\n",
       "      <th>35</th>\n",
       "      <td>0.272727</td>\n",
       "      <td>0.022579</td>\n",
       "      <td>0.145110</td>\n",
       "      <td>0.016996</td>\n",
       "      <td>0.521897</td>\n",
       "    </tr>\n",
       "    <tr>\n",
       "      <th>36</th>\n",
       "      <td>0.077922</td>\n",
       "      <td>0.000041</td>\n",
       "      <td>0.038185</td>\n",
       "      <td>0.005128</td>\n",
       "      <td>0.408028</td>\n",
       "    </tr>\n",
       "    <tr>\n",
       "      <th>40</th>\n",
       "      <td>0.272727</td>\n",
       "      <td>0.009601</td>\n",
       "      <td>0.133495</td>\n",
       "      <td>0.016024</td>\n",
       "      <td>0.530116</td>\n",
       "    </tr>\n",
       "    <tr>\n",
       "      <th>43</th>\n",
       "      <td>0.103896</td>\n",
       "      <td>0.001116</td>\n",
       "      <td>0.023879</td>\n",
       "      <td>0.005603</td>\n",
       "      <td>0.400742</td>\n",
       "    </tr>\n",
       "    <tr>\n",
       "      <th>44</th>\n",
       "      <td>0.337662</td>\n",
       "      <td>0.024532</td>\n",
       "      <td>0.144716</td>\n",
       "      <td>0.022966</td>\n",
       "      <td>0.542941</td>\n",
       "    </tr>\n",
       "    <tr>\n",
       "      <th>45</th>\n",
       "      <td>0.142857</td>\n",
       "      <td>0.001339</td>\n",
       "      <td>0.068130</td>\n",
       "      <td>0.010451</td>\n",
       "      <td>0.442925</td>\n",
       "    </tr>\n",
       "    <tr>\n",
       "      <th>46</th>\n",
       "      <td>0.571429</td>\n",
       "      <td>0.046118</td>\n",
       "      <td>0.204766</td>\n",
       "      <td>0.035526</td>\n",
       "      <td>0.641187</td>\n",
       "    </tr>\n",
       "    <tr>\n",
       "      <th>47</th>\n",
       "      <td>0.298701</td>\n",
       "      <td>0.018225</td>\n",
       "      <td>0.135062</td>\n",
       "      <td>0.017111</td>\n",
       "      <td>0.538597</td>\n",
       "    </tr>\n",
       "    <tr>\n",
       "      <th>48</th>\n",
       "      <td>0.077922</td>\n",
       "      <td>0.000000</td>\n",
       "      <td>0.029984</td>\n",
       "      <td>0.006261</td>\n",
       "      <td>0.393712</td>\n",
       "    </tr>\n",
       "    <tr>\n",
       "      <th>49</th>\n",
       "      <td>0.519481</td>\n",
       "      <td>0.098117</td>\n",
       "      <td>0.213053</td>\n",
       "      <td>0.027990</td>\n",
       "      <td>0.635138</td>\n",
       "    </tr>\n",
       "    <tr>\n",
       "      <th>51</th>\n",
       "      <td>0.363636</td>\n",
       "      <td>0.033441</td>\n",
       "      <td>0.167026</td>\n",
       "      <td>0.022352</td>\n",
       "      <td>0.547355</td>\n",
       "    </tr>\n",
       "    <tr>\n",
       "      <th>54</th>\n",
       "      <td>0.493506</td>\n",
       "      <td>0.021892</td>\n",
       "      <td>0.210256</td>\n",
       "      <td>0.026046</td>\n",
       "      <td>0.623377</td>\n",
       "    </tr>\n",
       "    <tr>\n",
       "      <th>55</th>\n",
       "      <td>0.467532</td>\n",
       "      <td>0.015222</td>\n",
       "      <td>0.187594</td>\n",
       "      <td>0.025384</td>\n",
       "      <td>0.623377</td>\n",
       "    </tr>\n",
       "    <tr>\n",
       "      <th>56</th>\n",
       "      <td>0.129870</td>\n",
       "      <td>0.001160</td>\n",
       "      <td>0.077013</td>\n",
       "      <td>0.009509</td>\n",
       "      <td>0.464308</td>\n",
       "    </tr>\n",
       "    <tr>\n",
       "      <th>57</th>\n",
       "      <td>0.155844</td>\n",
       "      <td>0.000128</td>\n",
       "      <td>0.064857</td>\n",
       "      <td>0.010178</td>\n",
       "      <td>0.474117</td>\n",
       "    </tr>\n",
       "    <tr>\n",
       "      <th>58</th>\n",
       "      <td>0.116883</td>\n",
       "      <td>0.001858</td>\n",
       "      <td>0.038227</td>\n",
       "      <td>0.008231</td>\n",
       "      <td>0.423426</td>\n",
       "    </tr>\n",
       "    <tr>\n",
       "      <th>60</th>\n",
       "      <td>0.558442</td>\n",
       "      <td>0.060305</td>\n",
       "      <td>0.242943</td>\n",
       "      <td>0.034594</td>\n",
       "      <td>0.660046</td>\n",
       "    </tr>\n",
       "    <tr>\n",
       "      <th>61</th>\n",
       "      <td>0.298701</td>\n",
       "      <td>0.008495</td>\n",
       "      <td>0.109605</td>\n",
       "      <td>0.017790</td>\n",
       "      <td>0.525974</td>\n",
       "    </tr>\n",
       "    <tr>\n",
       "      <th>62</th>\n",
       "      <td>0.012987</td>\n",
       "      <td>0.000000</td>\n",
       "      <td>0.007516</td>\n",
       "      <td>0.002687</td>\n",
       "      <td>0.356741</td>\n",
       "    </tr>\n",
       "    <tr>\n",
       "      <th>63</th>\n",
       "      <td>0.376623</td>\n",
       "      <td>0.044998</td>\n",
       "      <td>0.165094</td>\n",
       "      <td>0.021625</td>\n",
       "      <td>0.575425</td>\n",
       "    </tr>\n",
       "    <tr>\n",
       "      <th>64</th>\n",
       "      <td>0.285714</td>\n",
       "      <td>0.003860</td>\n",
       "      <td>0.133370</td>\n",
       "      <td>0.016061</td>\n",
       "      <td>0.525974</td>\n",
       "    </tr>\n",
       "    <tr>\n",
       "      <th>65</th>\n",
       "      <td>0.376623</td>\n",
       "      <td>0.008597</td>\n",
       "      <td>0.199798</td>\n",
       "      <td>0.021626</td>\n",
       "      <td>0.580385</td>\n",
       "    </tr>\n",
       "    <tr>\n",
       "      <th>66</th>\n",
       "      <td>0.285714</td>\n",
       "      <td>0.006248</td>\n",
       "      <td>0.133951</td>\n",
       "      <td>0.018897</td>\n",
       "      <td>0.542941</td>\n",
       "    </tr>\n",
       "    <tr>\n",
       "      <th>67</th>\n",
       "      <td>0.168831</td>\n",
       "      <td>0.000000</td>\n",
       "      <td>0.080459</td>\n",
       "      <td>0.012273</td>\n",
       "      <td>0.510853</td>\n",
       "    </tr>\n",
       "    <tr>\n",
       "      <th>68</th>\n",
       "      <td>0.181818</td>\n",
       "      <td>0.000429</td>\n",
       "      <td>0.091319</td>\n",
       "      <td>0.011300</td>\n",
       "      <td>0.495034</td>\n",
       "    </tr>\n",
       "    <tr>\n",
       "      <th>69</th>\n",
       "      <td>0.207792</td>\n",
       "      <td>0.004254</td>\n",
       "      <td>0.086531</td>\n",
       "      <td>0.014192</td>\n",
       "      <td>0.477480</td>\n",
       "    </tr>\n",
       "    <tr>\n",
       "      <th>70</th>\n",
       "      <td>0.155844</td>\n",
       "      <td>0.009265</td>\n",
       "      <td>0.048508</td>\n",
       "      <td>0.008773</td>\n",
       "      <td>0.451843</td>\n",
       "    </tr>\n",
       "    <tr>\n",
       "      <th>71</th>\n",
       "      <td>0.103896</td>\n",
       "      <td>0.002253</td>\n",
       "      <td>0.034068</td>\n",
       "      <td>0.007083</td>\n",
       "      <td>0.428820</td>\n",
       "    </tr>\n",
       "    <tr>\n",
       "      <th>72</th>\n",
       "      <td>0.272727</td>\n",
       "      <td>0.009524</td>\n",
       "      <td>0.120619</td>\n",
       "      <td>0.017015</td>\n",
       "      <td>0.513929</td>\n",
       "    </tr>\n",
       "    <tr>\n",
       "      <th>73</th>\n",
       "      <td>0.103896</td>\n",
       "      <td>0.001198</td>\n",
       "      <td>0.019463</td>\n",
       "      <td>0.005663</td>\n",
       "      <td>0.384712</td>\n",
       "    </tr>\n",
       "    <tr>\n",
       "      <th>74</th>\n",
       "      <td>0.116883</td>\n",
       "      <td>0.010184</td>\n",
       "      <td>0.029656</td>\n",
       "      <td>0.006446</td>\n",
       "      <td>0.413035</td>\n",
       "    </tr>\n",
       "    <tr>\n",
       "      <th>75</th>\n",
       "      <td>0.103896</td>\n",
       "      <td>0.000107</td>\n",
       "      <td>0.023879</td>\n",
       "      <td>0.005382</td>\n",
       "      <td>0.400742</td>\n",
       "    </tr>\n",
       "  </tbody>\n",
       "</table>\n",
       "</div>"
      ],
      "text/plain": [
       "    in_degree  betweenness  eigenvector  pagerank  closeness\n",
       "0    0.220779     0.008887     0.096742  0.014448   0.495034\n",
       "2    0.428571     0.055871     0.189312  0.026204   0.595794\n",
       "3    0.064935     0.000742     0.036672  0.005746   0.440031\n",
       "10   0.194805     0.004843     0.090145  0.011790   0.484350\n",
       "13   0.051948     0.001340     0.011710  0.003912   0.365895\n",
       "14   0.025974     0.000103     0.013238  0.003203   0.400742\n",
       "17   0.194805     0.014686     0.096342  0.013002   0.487860\n",
       "20   0.402597     0.020190     0.190078  0.022344   0.585432\n",
       "21   0.012987     0.000120     0.001294  0.002854   0.284070\n",
       "22   0.389610     0.029126     0.197038  0.022983   0.590567\n",
       "23   0.285714     0.005889     0.159897  0.016258   0.538597\n",
       "25   0.428571     0.015822     0.203238  0.025653   0.606529\n",
       "26   0.350649     0.009927     0.191212  0.019428   0.570548\n",
       "27   0.129870     0.001198     0.046414  0.008736   0.437173\n",
       "28   0.220779     0.009490     0.115383  0.013201   0.506201\n",
       "29   0.402597     0.054999     0.147566  0.022686   0.575425\n",
       "30   0.207792     0.006428     0.080219  0.012801   0.491421\n",
       "31   0.233766     0.007870     0.111029  0.012970   0.498701\n",
       "32   0.298701     0.009319     0.161201  0.017443   0.547355\n",
       "33   0.298701     0.009603     0.146514  0.017192   0.551842\n",
       "35   0.272727     0.022579     0.145110  0.016996   0.521897\n",
       "36   0.077922     0.000041     0.038185  0.005128   0.408028\n",
       "40   0.272727     0.009601     0.133495  0.016024   0.530116\n",
       "43   0.103896     0.001116     0.023879  0.005603   0.400742\n",
       "44   0.337662     0.024532     0.144716  0.022966   0.542941\n",
       "45   0.142857     0.001339     0.068130  0.010451   0.442925\n",
       "46   0.571429     0.046118     0.204766  0.035526   0.641187\n",
       "47   0.298701     0.018225     0.135062  0.017111   0.538597\n",
       "48   0.077922     0.000000     0.029984  0.006261   0.393712\n",
       "49   0.519481     0.098117     0.213053  0.027990   0.635138\n",
       "51   0.363636     0.033441     0.167026  0.022352   0.547355\n",
       "54   0.493506     0.021892     0.210256  0.026046   0.623377\n",
       "55   0.467532     0.015222     0.187594  0.025384   0.623377\n",
       "56   0.129870     0.001160     0.077013  0.009509   0.464308\n",
       "57   0.155844     0.000128     0.064857  0.010178   0.474117\n",
       "58   0.116883     0.001858     0.038227  0.008231   0.423426\n",
       "60   0.558442     0.060305     0.242943  0.034594   0.660046\n",
       "61   0.298701     0.008495     0.109605  0.017790   0.525974\n",
       "62   0.012987     0.000000     0.007516  0.002687   0.356741\n",
       "63   0.376623     0.044998     0.165094  0.021625   0.575425\n",
       "64   0.285714     0.003860     0.133370  0.016061   0.525974\n",
       "65   0.376623     0.008597     0.199798  0.021626   0.580385\n",
       "66   0.285714     0.006248     0.133951  0.018897   0.542941\n",
       "67   0.168831     0.000000     0.080459  0.012273   0.510853\n",
       "68   0.181818     0.000429     0.091319  0.011300   0.495034\n",
       "69   0.207792     0.004254     0.086531  0.014192   0.477480\n",
       "70   0.155844     0.009265     0.048508  0.008773   0.451843\n",
       "71   0.103896     0.002253     0.034068  0.007083   0.428820\n",
       "72   0.272727     0.009524     0.120619  0.017015   0.513929\n",
       "73   0.103896     0.001198     0.019463  0.005663   0.384712\n",
       "74   0.116883     0.010184     0.029656  0.006446   0.413035\n",
       "75   0.103896     0.000107     0.023879  0.005382   0.400742"
      ]
     },
     "execution_count": 118,
     "metadata": {},
     "output_type": "execute_result"
    }
   ],
   "source": [
    "X"
   ]
  },
  {
   "cell_type": "code",
   "execution_count": 119,
   "metadata": {},
   "outputs": [],
   "source": [
    "X_train, X_test, y_train, y_test = train_test_split(X, y2, test_size=0.2, random_state=0)"
   ]
  },
  {
   "cell_type": "code",
   "execution_count": 120,
   "metadata": {},
   "outputs": [
    {
     "data": {
      "text/plain": [
       "LogisticRegression()"
      ]
     },
     "execution_count": 120,
     "metadata": {},
     "output_type": "execute_result"
    }
   ],
   "source": [
    "model = LogisticRegression()\n",
    "model.fit(X_train, y_train)"
   ]
  },
  {
   "cell_type": "code",
   "execution_count": 121,
   "metadata": {},
   "outputs": [
    {
     "data": {
      "text/plain": [
       "0.4146341463414634"
      ]
     },
     "execution_count": 121,
     "metadata": {},
     "output_type": "execute_result"
    }
   ],
   "source": [
    "model.score(X_train,y_train)"
   ]
  },
  {
   "cell_type": "code",
   "execution_count": 122,
   "metadata": {
    "scrolled": true
   },
   "outputs": [
    {
     "data": {
      "text/plain": [
       "array([[0, 0, 1, 0, 0],\n",
       "       [0, 0, 1, 0, 0],\n",
       "       [0, 0, 6, 0, 0],\n",
       "       [0, 0, 1, 0, 0],\n",
       "       [0, 0, 2, 0, 0]])"
      ]
     },
     "execution_count": 122,
     "metadata": {},
     "output_type": "execute_result"
    }
   ],
   "source": [
    "cm = metrics.confusion_matrix(y_test, model.predict(X_test))\n",
    "cm"
   ]
  },
  {
   "cell_type": "code",
   "execution_count": 123,
   "metadata": {},
   "outputs": [
    {
     "data": {
      "text/plain": [
       "<sklearn.metrics._plot.confusion_matrix.ConfusionMatrixDisplay at 0x7fec3c053950>"
      ]
     },
     "execution_count": 123,
     "metadata": {},
     "output_type": "execute_result"
    },
    {
     "data": {
      "image/png": "[encoded data removed]",
      "text/plain": [
       "<Figure size 432x288 with 2 Axes>"
      ]
     },
     "metadata": {
      "needs_background": "light"
     },
     "output_type": "display_data"
    }
   ],
   "source": [
    "from sklearn.metrics import plot_confusion_matrix\n",
    "\n",
    "plot_confusion_matrix(model, X_test, y_test,\n",
    "                                 #display_labels=class_names,\n",
    "                                 cmap=plt.cm.Blues,\n",
    "                                 xticks_rotation=\"vertical\",\n",
    "                                 normalize=None)"
   ]
  },
  {
   "cell_type": "code",
   "execution_count": 124,
   "metadata": {
    "scrolled": true
   },
   "outputs": [
    {
     "data": {
      "image/png": "[encoded data removed]",
      "text/plain": [
       "<Figure size 432x288 with 1 Axes>"
      ]
     },
     "metadata": {
      "needs_background": "light"
     },
     "output_type": "display_data"
    }
   ],
   "source": [
    "plt.hist(y2, \n",
    "         bins=5)\n",
    "plt.title(\"Stream-Kategorien Verteilung\")\n",
    "plt.savefig('game_hist.png', dpi=300, bbox_inches='tight')"
   ]
  }
 ],
 "metadata": {
  "kernelspec": {
   "display_name": "Python 3",
   "language": "python",
   "name": "python3"
  },
  "language_info": {
   "codemirror_mode": {
    "name": "ipython",
    "version": 3
   },
   "file_extension": ".py",
   "mimetype": "text/x-python",
   "name": "python",
   "nbconvert_exporter": "python",
   "pygments_lexer": "ipython3",
   "version": "3.7.4"
  }
 },
 "nbformat": 4,
 "nbformat_minor": 4
}
